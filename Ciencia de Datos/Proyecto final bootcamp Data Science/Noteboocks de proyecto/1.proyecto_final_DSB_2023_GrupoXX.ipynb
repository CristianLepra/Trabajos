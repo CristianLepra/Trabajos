{
 "cells": [
  {
   "cell_type": "markdown",
   "metadata": {
    "id": "AHONY2VzigaP"
   },
   "source": [
    "![](https://7612750.fs1.hubspotusercontent-na1.net/hubfs/7612750/logo%20Senpai_2022%20(1)-1.png)\n",
    "# Proyecto final - Bootcamp Data Science\n",
    "\n",
    "A continuación, se detallan las indicaciones para el desarrollo del proyecto final. \n",
    "Tenga a bien leer todas las instrucciones y no dude en consultar si tiene alguna duda.\n",
    "\n",
    "1. El proyecto se realiza de forma grupal comenzando el 21 de Noviembre a las 7:00 PM. La defensa del mismo se realizará el día 1 de diciembre a las 7:00 PM. Como parte de la evaluación se ponderan tres conceptos, el desarrollo de la solución (Notebook), la defensa grupal y la presentación individual \n",
    "\n",
    "2. La fecha de entrega de trabajo es el 30 de Noviembre a las 9:00 AM horas \n",
    "\n",
    "3. Tanto el código como el análisis y las visualizaciones se deben entregan en un notebook en formato **.ipynb**\n",
    "\n",
    "4. Puede utilizar diferentes herramientas para el desarrollo como Jupyter, Colab, Spypder o VSCodium, sin embargo, el trabajo final debe ser entregado en un notebook como estipulado en el punto 3.\n",
    "\n",
    "5. Como parte del ejercicio, se podrán implementar todas las herramientas y code snippets vistos durante el transcurso del bootcamp.\n",
    "\n",
    "6. Se deberan implementar funciones que reciban los parámetros adecuados y no posean strings implícitos dentro de la misma función.\n",
    "\n",
    "7. Los trabajos deberán ser enviados por correo al cuerpo docente (1 por grupo).\n",
    "\n",
    "8. Se deben de implementar visualizaciones, ya sea como parte del EDA y/o del entrenamiento del modelo\n",
    "\n",
    "9. Se recomienda trabajar con Colab o Kaggle para el desarrollo del proyecto. Tenga en cuenta que cada servicio posee particularidades con las versiones de las librerías con las que opera.\n",
    "\n",
    "10. Con el objetivo de poder registrar los experimentos y sus métricas, se recomienda utilizar soluciones de MLOps como Neptune, Tensorboard, o Comet.\n",
    "\n",
    "---"
   ]
  },
  {
   "cell_type": "markdown",
   "metadata": {
    "id": "F2tqo5cDpTwh"
   },
   "source": [
    "## Datos del Grupo (Ingrese los datos de los miembros del grupo)\n",
    "\n",
    "Nombre  | Apellido\n",
    "--------|----------\n",
    "Alumno  | 1\n",
    "Alumno  | 2\n",
    "Alumno  | 3\n"
   ]
  },
  {
   "cell_type": "markdown",
   "metadata": {
    "id": "0Uv0eAi_yqJM"
   },
   "source": [
    "## Criterio de evaluación\n",
    "\n",
    "Cada grupo deberá proponer al menos dos temas los cuales serán evaluados por los docentes en base a los siguientes parámetros:\n",
    "\n",
    "- Complejidad\n",
    "- Usabilidad\n",
    "- Aplicabilidad\n",
    "- Innovador\n",
    "\n",
    "Una vez que el cuerpo docente haya dado la aprobación de uno de los temas propuestos por el equipo, el mismo deberá comenzar con el desarrollo del modelo predictivo aplicando los conocimientos vistos a través del bootcamp.\n",
    "\n",
    "Como parte del examen se evaluarán los siguientes conceptos:\n",
    "\n",
    "* Importar datos desde fuentes externas\n",
    "* Uso de funciones\n",
    "* Documentación\n",
    "* Limpieza de datos\n",
    "* Gestión de datos y transformaciones\n",
    "* Visualizaciones\n",
    "* Selección de atributos\n",
    "* Reducción de dimensionalidad donde sea neceario\n",
    "* Modelado\n",
    "* Evaluación de los resultados (métricas)\n",
    "* Almacenamiento de resultados y modelo\n",
    "\n",
    "\n",
    "Tenga en cuenta que el desarrollo no solo debe contar con la documentación de código como parte de las buenas prácticas, sino que también se debe documentar los diferentes resultados parciales con su debida explicación, así como la conclusión con los datos que soporten los resultados"
   ]
  },
  {
   "cell_type": "markdown",
   "metadata": {
    "id": "X2C709eFqRDd"
   },
   "source": [
    "## Herramientas utilizadas\n",
    "\n",
    "A continuación tenga a bien detallar las herramientas utilizadas para el desarrollo del proyecto, incluyendo Notebooks, herramientas de visualización, Librerías principales, y software adicional (e.g. documentación, MLOps, etc)\n",
    "\n",
    "*   Google Colab\n",
    "*   PowerPoint\n",
    "\n",
    "---"
   ]
  },
  {
   "cell_type": "markdown",
   "metadata": {},
   "source": [
    "# Clases y funciones\n",
    "\n",
    "En el siguiente apartado se recomienda definir las clases/funciones/funciones lambdas aplicables al desarrollo. Esto permitirá tener organizado la declaración de las mismas así como la actualización.\n",
    "\n",
    ">Note: Todas las clases/funciones deben poseer la documentación correspondiente de los parámetros que recibe, argumentos, y salida de las mismas"
   ]
  },
  {
   "cell_type": "code",
   "execution_count": null,
   "metadata": {},
   "outputs": [],
   "source": []
  },
  {
   "cell_type": "code",
   "execution_count": null,
   "metadata": {},
   "outputs": [],
   "source": []
  },
  {
   "cell_type": "code",
   "execution_count": null,
   "metadata": {},
   "outputs": [],
   "source": []
  },
  {
   "cell_type": "markdown",
   "metadata": {
    "id": "RzO8w1ysoR5P"
   },
   "source": [
    "## Carga de datos"
   ]
  },
  {
   "cell_type": "code",
   "execution_count": null,
   "metadata": {
    "colab": {
     "base_uri": "https://localhost:8080/"
    },
    "executionInfo": {
     "elapsed": 2331,
     "status": "ok",
     "timestamp": 1651924519928,
     "user": {
      "displayName": "Angel Jonatán Siracusa",
      "userId": "13651877073961459211"
     },
     "user_tz": 180
    },
    "id": "aA0x99pgblbV",
    "outputId": "c49332cd-e1f8-4dc4-b554-6a86b8e27f25"
   },
   "outputs": [],
   "source": []
  },
  {
   "cell_type": "code",
   "execution_count": null,
   "metadata": {
    "id": "ICiXdPVKKCq5"
   },
   "outputs": [],
   "source": []
  },
  {
   "cell_type": "code",
   "execution_count": null,
   "metadata": {
    "id": "ZGJ9_Bn3LNjL"
   },
   "outputs": [],
   "source": []
  },
  {
   "cell_type": "markdown",
   "metadata": {
    "id": "KAjjl-EDoYZ_"
   },
   "source": [
    "## Limpieza de datos"
   ]
  },
  {
   "cell_type": "code",
   "execution_count": null,
   "metadata": {
    "id": "CxWDctuiiZGX"
   },
   "outputs": [],
   "source": []
  },
  {
   "cell_type": "markdown",
   "metadata": {
    "id": "-uevHE8QQBnA"
   },
   "source": []
  },
  {
   "cell_type": "code",
   "execution_count": null,
   "metadata": {
    "executionInfo": {
     "elapsed": 12,
     "status": "ok",
     "timestamp": 1651924520405,
     "user": {
      "displayName": "Angel Jonatán Siracusa",
      "userId": "13651877073961459211"
     },
     "user_tz": 180
    },
    "id": "X5Yal9GOyiz9"
   },
   "outputs": [],
   "source": []
  },
  {
   "cell_type": "markdown",
   "metadata": {
    "id": "1Ht6Zro3oje8"
   },
   "source": [
    "## Transformación de datos"
   ]
  },
  {
   "cell_type": "code",
   "execution_count": null,
   "metadata": {
    "id": "9gLu38iS9I_a"
   },
   "outputs": [],
   "source": []
  },
  {
   "cell_type": "code",
   "execution_count": null,
   "metadata": {
    "executionInfo": {
     "elapsed": 4,
     "status": "ok",
     "timestamp": 1651924520906,
     "user": {
      "displayName": "Angel Jonatán Siracusa",
      "userId": "13651877073961459211"
     },
     "user_tz": 180
    },
    "id": "U0fd4AJ5RPD8"
   },
   "outputs": [],
   "source": []
  },
  {
   "cell_type": "code",
   "execution_count": null,
   "metadata": {
    "executionInfo": {
     "elapsed": 4,
     "status": "ok",
     "timestamp": 1651924520906,
     "user": {
      "displayName": "Angel Jonatán Siracusa",
      "userId": "13651877073961459211"
     },
     "user_tz": 180
    },
    "id": "zO7j_6s6Vcvm"
   },
   "outputs": [],
   "source": []
  },
  {
   "cell_type": "markdown",
   "metadata": {
    "id": "-oZALeyloq56"
   },
   "source": [
    "## Análisis y Visualizaciones"
   ]
  },
  {
   "cell_type": "code",
   "execution_count": null,
   "metadata": {
    "executionInfo": {
     "elapsed": 3,
     "status": "ok",
     "timestamp": 1651924520906,
     "user": {
      "displayName": "Angel Jonatán Siracusa",
      "userId": "13651877073961459211"
     },
     "user_tz": 180
    },
    "id": "fzJvgy6Hbu7B"
   },
   "outputs": [],
   "source": []
  },
  {
   "cell_type": "code",
   "execution_count": null,
   "metadata": {
    "executionInfo": {
     "elapsed": 3,
     "status": "ok",
     "timestamp": 1651924520906,
     "user": {
      "displayName": "Angel Jonatán Siracusa",
      "userId": "13651877073961459211"
     },
     "user_tz": 180
    },
    "id": "S1eogMutx0hq"
   },
   "outputs": [],
   "source": []
  },
  {
   "cell_type": "code",
   "execution_count": null,
   "metadata": {
    "id": "qZxNmiaeg0iV"
   },
   "outputs": [],
   "source": []
  },
  {
   "cell_type": "markdown",
   "metadata": {
    "executionInfo": {
     "elapsed": 21,
     "status": "ok",
     "timestamp": 1651924525454,
     "user": {
      "displayName": "Angel Jonatán Siracusa",
      "userId": "13651877073961459211"
     },
     "user_tz": 180
    },
    "id": "UqSjpVUlbTyF"
   },
   "source": [
    "--------"
   ]
  },
  {
   "cell_type": "markdown",
   "metadata": {
    "tags": []
   },
   "source": [
    "# Modelo predictivo"
   ]
  },
  {
   "cell_type": "markdown",
   "metadata": {
    "tags": []
   },
   "source": [
    "## Partición de datos"
   ]
  },
  {
   "cell_type": "code",
   "execution_count": null,
   "metadata": {},
   "outputs": [],
   "source": []
  },
  {
   "cell_type": "code",
   "execution_count": null,
   "metadata": {},
   "outputs": [],
   "source": []
  },
  {
   "cell_type": "code",
   "execution_count": null,
   "metadata": {},
   "outputs": [],
   "source": []
  },
  {
   "cell_type": "markdown",
   "metadata": {},
   "source": [
    "## Selección de atributos"
   ]
  },
  {
   "cell_type": "code",
   "execution_count": null,
   "metadata": {},
   "outputs": [],
   "source": []
  },
  {
   "cell_type": "code",
   "execution_count": null,
   "metadata": {},
   "outputs": [],
   "source": []
  },
  {
   "cell_type": "code",
   "execution_count": null,
   "metadata": {},
   "outputs": [],
   "source": []
  },
  {
   "cell_type": "markdown",
   "metadata": {},
   "source": [
    "## Estandarización / Normalización"
   ]
  },
  {
   "cell_type": "code",
   "execution_count": null,
   "metadata": {},
   "outputs": [],
   "source": []
  },
  {
   "cell_type": "code",
   "execution_count": null,
   "metadata": {},
   "outputs": [],
   "source": []
  },
  {
   "cell_type": "code",
   "execution_count": null,
   "metadata": {},
   "outputs": [],
   "source": []
  },
  {
   "cell_type": "markdown",
   "metadata": {},
   "source": [
    "## Modelado"
   ]
  },
  {
   "cell_type": "code",
   "execution_count": null,
   "metadata": {},
   "outputs": [],
   "source": []
  },
  {
   "cell_type": "code",
   "execution_count": null,
   "metadata": {},
   "outputs": [],
   "source": []
  },
  {
   "cell_type": "code",
   "execution_count": null,
   "metadata": {},
   "outputs": [],
   "source": []
  },
  {
   "cell_type": "markdown",
   "metadata": {},
   "source": [
    "## Evaluación del modelo"
   ]
  },
  {
   "cell_type": "code",
   "execution_count": null,
   "metadata": {},
   "outputs": [],
   "source": []
  },
  {
   "cell_type": "code",
   "execution_count": null,
   "metadata": {},
   "outputs": [],
   "source": []
  },
  {
   "cell_type": "code",
   "execution_count": null,
   "metadata": {},
   "outputs": [],
   "source": []
  },
  {
   "cell_type": "markdown",
   "metadata": {
    "id": "q7ppUWSYpA7A"
   },
   "source": [
    "## Conclusión"
   ]
  },
  {
   "cell_type": "markdown",
   "metadata": {},
   "source": []
  },
  {
   "cell_type": "markdown",
   "metadata": {},
   "source": []
  },
  {
   "cell_type": "markdown",
   "metadata": {},
   "source": []
  },
  {
   "cell_type": "markdown",
   "metadata": {
    "id": "4nsbdrUgpL4k"
   },
   "source": [
    "## Almacenamiento de resultados"
   ]
  },
  {
   "cell_type": "code",
   "execution_count": null,
   "metadata": {},
   "outputs": [],
   "source": []
  },
  {
   "cell_type": "code",
   "execution_count": null,
   "metadata": {},
   "outputs": [],
   "source": []
  },
  {
   "cell_type": "code",
   "execution_count": null,
   "metadata": {},
   "outputs": [],
   "source": []
  }
 ],
 "metadata": {
  "colab": {
   "collapsed_sections": [
    "F2tqo5cDpTwh",
    "X2C709eFqRDd",
    "pEjPYOxOw27M"
   ],
   "name": "Examen_Bimestre_1_Intro_Python_2022_V01.ipynb",
   "provenance": []
  },
  "kernelspec": {
   "display_name": "Python 3 (ipykernel)",
   "language": "python",
   "name": "python3"
  },
  "language_info": {
   "codemirror_mode": {
    "name": "ipython",
    "version": 3
   },
   "file_extension": ".py",
   "mimetype": "text/x-python",
   "name": "python",
   "nbconvert_exporter": "python",
   "pygments_lexer": "ipython3",
   "version": "3.10.12"
  }
 },
 "nbformat": 4,
 "nbformat_minor": 4
}
